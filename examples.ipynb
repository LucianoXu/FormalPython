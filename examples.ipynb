{
 "cells": [
  {
   "cell_type": "code",
   "execution_count": 16,
   "metadata": {},
   "outputs": [],
   "source": [
    "from qplcomp import *\n",
    "import numpy as np"
   ]
  },
  {
   "cell_type": "code",
   "execution_count": 17,
   "metadata": {},
   "outputs": [],
   "source": [
    "def Demo(code : str) -> None:\n",
    "    A = Parser.parse(code)\n",
    "    print(\"Input String: \"+ code)\n",
    "    print(\"Parsing Result: \" + str(A))\n",
    "    print(\"Value: \")\n",
    "    print(A.eval())\n",
    "    print()"
   ]
  },
  {
   "cell_type": "code",
   "execution_count": 20,
   "metadata": {},
   "outputs": [
    {
     "name": "stdout",
     "output_type": "stream",
     "text": [
      "Input String: X[p]\n",
      "Parsing Result: X[p]\n",
      "Value: \n",
      "[[0. 1.]\n",
      " [1. 0.]][p]\n",
      "\n",
      "Input String: CX[p q]\n",
      "Parsing Result: CX[p q]\n",
      "Value: \n",
      "[[1. 0. 0. 0.]\n",
      " [0. 1. 0. 0.]\n",
      " [0. 0. 0. 1.]\n",
      " [0. 0. 1. 0.]][p q]\n",
      "\n"
     ]
    }
   ],
   "source": [
    "Demo(\"X[p]\")\n",
    "Demo(\"CX[p q]\")"
   ]
  },
  {
   "cell_type": "code",
   "execution_count": 28,
   "metadata": {},
   "outputs": [],
   "source": [
    "# Demo(\"X[p q]\")"
   ]
  },
  {
   "cell_type": "code",
   "execution_count": 29,
   "metadata": {},
   "outputs": [],
   "source": [
    "# Demo(\"CX[p p]\")"
   ]
  },
  {
   "cell_type": "code",
   "execution_count": 32,
   "metadata": {},
   "outputs": [
    {
     "name": "stdout",
     "output_type": "stream",
     "text": [
      "Input String: (P0 + P1)[p]\n",
      "Parsing Result: (P0+P1)[p]\n",
      "Value: \n",
      "[[1. 0.]\n",
      " [0. 1.]][p]\n",
      "\n"
     ]
    }
   ],
   "source": [
    "Demo(\"(P0 + P1)[p]\")"
   ]
  },
  {
   "cell_type": "code",
   "execution_count": 33,
   "metadata": {},
   "outputs": [
    {
     "name": "stdout",
     "output_type": "stream",
     "text": [
      "Input String: (X Y)[p]\n",
      "Parsing Result: (X Y)[p]\n",
      "Value: \n",
      "[[0.+1.j 0.+0.j]\n",
      " [0.+0.j 0.-1.j]][p]\n",
      "\n"
     ]
    }
   ],
   "source": [
    "Demo(\"(X Y)[p]\")"
   ]
  },
  {
   "cell_type": "code",
   "execution_count": 30,
   "metadata": {},
   "outputs": [
    {
     "name": "stdout",
     "output_type": "stream",
     "text": [
      "Input String: X \\otimes X [p q]\n",
      "Parsing Result: (X⊗ X)[p q]\n",
      "Value: \n",
      "[[0. 0. 0. 1.]\n",
      " [0. 0. 1. 0.]\n",
      " [0. 1. 0. 0.]\n",
      " [1. 0. 0. 0.]][p q]\n",
      "\n",
      "Input String: X ⊗ X [p q]\n",
      "Parsing Result: (X⊗ X)[p q]\n",
      "Value: \n",
      "[[0. 0. 0. 1.]\n",
      " [0. 0. 1. 0.]\n",
      " [0. 1. 0. 0.]\n",
      " [1. 0. 0. 0.]][p q]\n",
      "\n"
     ]
    }
   ],
   "source": [
    "Demo(\"(X \\\\otimes X)[p q]\")\n",
    "Demo(\"(X ⊗ X)[p q]\")"
   ]
  },
  {
   "cell_type": "code",
   "execution_count": 38,
   "metadata": {},
   "outputs": [
    {
     "name": "stdout",
     "output_type": "stream",
     "text": [
      "Input String: (X X)†[p]\n",
      "Parsing Result: ((X X)†)[p]\n",
      "Value: \n",
      "[[1. 0.]\n",
      " [0. 1.]][p]\n",
      "\n",
      "Input String: (X X)^\\dagger[p]\n",
      "Parsing Result: ((X X)†)[p]\n",
      "Value: \n",
      "[[1. 0.]\n",
      " [0. 1.]][p]\n",
      "\n"
     ]
    }
   ],
   "source": [
    "Demo(\"(X X)†[p]\")\n",
    "Demo(\"(X X)^\\\\dagger[p]\")"
   ]
  },
  {
   "cell_type": "code",
   "execution_count": null,
   "metadata": {},
   "outputs": [],
   "source": []
  }
 ],
 "metadata": {
  "kernelspec": {
   "display_name": "base",
   "language": "python",
   "name": "python3"
  },
  "language_info": {
   "codemirror_mode": {
    "name": "ipython",
    "version": 3
   },
   "file_extension": ".py",
   "mimetype": "text/x-python",
   "name": "python",
   "nbconvert_exporter": "python",
   "pygments_lexer": "ipython3",
   "version": "3.9.12"
  }
 },
 "nbformat": 4,
 "nbformat_minor": 2
}
