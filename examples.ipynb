{
 "cells": [
  {
   "cell_type": "code",
   "execution_count": 1,
   "metadata": {},
   "outputs": [
    {
     "name": "stderr",
     "output_type": "stream",
     "text": [
      "Generating LALR tables\n"
     ]
    }
   ],
   "source": [
    "from qplcomp import *\n",
    "import numpy as np"
   ]
  },
  {
   "cell_type": "markdown",
   "metadata": {},
   "source": [
    "## Functionality of Quantum Values"
   ]
  },
  {
   "cell_type": "code",
   "execution_count": 2,
   "metadata": {},
   "outputs": [],
   "source": [
    "def Demo(code : str) -> None:\n",
    "    A = Parser.parse(code)\n",
    "    print(\"Input String: \"+ code)\n",
    "    print(\"Parsing Result: \" + str(A))\n",
    "    print(\"Value: \")\n",
    "    print(A.eval())\n",
    "    print()"
   ]
  },
  {
   "cell_type": "markdown",
   "metadata": {},
   "source": [
    "## Expressions of (unindexed) Quantum Values"
   ]
  },
  {
   "cell_type": "code",
   "execution_count": 3,
   "metadata": {},
   "outputs": [
    {
     "name": "stdout",
     "output_type": "stream",
     "text": [
      "Input String: X[p]\n",
      "Parsing Result: X[p]\n",
      "Value: \n",
      "[[0. 1.]\n",
      " [1. 0.]][p]\n",
      "\n",
      "Input String: CX[p q]\n",
      "Parsing Result: CX[p q]\n",
      "Value: \n",
      "[[1. 0. 0. 0.]\n",
      " [0. 1. 0. 0.]\n",
      " [0. 0. 0. 1.]\n",
      " [0. 0. 1. 0.]][p q]\n",
      "\n"
     ]
    }
   ],
   "source": [
    "Demo(\"X[p]\")\n",
    "Demo(\"CX[p q]\")"
   ]
  },
  {
   "cell_type": "code",
   "execution_count": 4,
   "metadata": {},
   "outputs": [],
   "source": [
    "# Demo(\"X[p q]\")"
   ]
  },
  {
   "cell_type": "code",
   "execution_count": 5,
   "metadata": {},
   "outputs": [],
   "source": [
    "# Demo(\"CX[p p]\")"
   ]
  },
  {
   "cell_type": "code",
   "execution_count": 6,
   "metadata": {},
   "outputs": [
    {
     "name": "stdout",
     "output_type": "stream",
     "text": [
      "Input String: (P0 + P1)[p]\n",
      "Parsing Result: (P0+P1)[p]\n",
      "Value: \n",
      "[[1. 0.]\n",
      " [0. 1.]][p]\n",
      "\n"
     ]
    }
   ],
   "source": [
    "Demo(\"(P0 + P1)[p]\")"
   ]
  },
  {
   "cell_type": "code",
   "execution_count": 7,
   "metadata": {},
   "outputs": [
    {
     "name": "stdout",
     "output_type": "stream",
     "text": [
      "Input String: (X Y)[p]\n",
      "Parsing Result: (X Y)[p]\n",
      "Value: \n",
      "[[0.+1.j 0.+0.j]\n",
      " [0.+0.j 0.-1.j]][p]\n",
      "\n"
     ]
    }
   ],
   "source": [
    "Demo(\"(X Y)[p]\")"
   ]
  },
  {
   "cell_type": "code",
   "execution_count": 8,
   "metadata": {},
   "outputs": [
    {
     "name": "stdout",
     "output_type": "stream",
     "text": [
      "Input String: (X \\otimes X)[p q]\n",
      "Parsing Result: (X⊗ X)[p q]\n",
      "Value: \n",
      "[[0. 0. 0. 1.]\n",
      " [0. 0. 1. 0.]\n",
      " [0. 1. 0. 0.]\n",
      " [1. 0. 0. 0.]][p q]\n",
      "\n",
      "Input String: (X ⊗ X)[p q]\n",
      "Parsing Result: (X⊗ X)[p q]\n",
      "Value: \n",
      "[[0. 0. 0. 1.]\n",
      " [0. 0. 1. 0.]\n",
      " [0. 1. 0. 0.]\n",
      " [1. 0. 0. 0.]][p q]\n",
      "\n"
     ]
    }
   ],
   "source": [
    "Demo(\"(X \\\\otimes X)[p q]\")\n",
    "Demo(\"(X ⊗ X)[p q]\")"
   ]
  },
  {
   "cell_type": "code",
   "execution_count": 9,
   "metadata": {},
   "outputs": [
    {
     "name": "stdout",
     "output_type": "stream",
     "text": [
      "Input String: (X X)†[p]\n",
      "Parsing Result: ((X X)†)[p]\n",
      "Value: \n",
      "[[1. 0.]\n",
      " [0. 1.]][p]\n",
      "\n",
      "Input String: (X X)^\\dagger[p]\n",
      "Parsing Result: ((X X)†)[p]\n",
      "Value: \n",
      "[[1. 0.]\n",
      " [0. 1.]][p]\n",
      "\n"
     ]
    }
   ],
   "source": [
    "Demo(\"(X X)†[p]\")\n",
    "Demo(\"(X X)^\\\\dagger[p]\")"
   ]
  },
  {
   "cell_type": "markdown",
   "metadata": {},
   "source": [
    "### Operations for Projectors"
   ]
  },
  {
   "cell_type": "code",
   "execution_count": 10,
   "metadata": {},
   "outputs": [
    {
     "name": "stdout",
     "output_type": "stream",
     "text": [
      "Input String: P0 \\vee Pm\n",
      "Parsing Result: (P0 ∨ Pm)\n",
      "Value: \n",
      "[[1. 0.]\n",
      " [0. 1.]]\n",
      "\n",
      "Input String: P0 ∧ Pm\n",
      "Parsing Result: (P0 ∧ Pm)\n",
      "Value: \n",
      "[[0. 0.]\n",
      " [0. 0.]]\n",
      "\n"
     ]
    }
   ],
   "source": [
    "Demo(\"P0 \\\\vee Pm\")\n",
    "Demo(\"P0 ∧ Pm\")"
   ]
  },
  {
   "cell_type": "markdown",
   "metadata": {},
   "source": [
    "## Expressions of Indexed Quantum Values"
   ]
  },
  {
   "cell_type": "code",
   "execution_count": 11,
   "metadata": {},
   "outputs": [
    {
     "name": "stdout",
     "output_type": "stream",
     "text": [
      "Input String: P0[p] + P1[p]\n",
      "Parsing Result: (P0[p]+P1[p])\n",
      "Value: \n",
      "[[1. 0.]\n",
      " [0. 1.]][p]\n",
      "\n",
      "Input String: P0[p] + (-P1)[q]\n",
      "Parsing Result: (P0[p]+(-P1)[q])\n",
      "Value: \n",
      "[[ 1.  0.  0.  0.]\n",
      " [ 0.  0.  0.  0.]\n",
      " [ 0.  0.  0.  0.]\n",
      " [ 0.  0.  0. -1.]][p q]\n",
      "\n",
      "Input String: I[p] - Pm[p]\n",
      "Parsing Result: (I[p]-Pm[p])\n",
      "Value: \n",
      "[[0.5 0.5]\n",
      " [0.5 0.5]][p]\n",
      "\n"
     ]
    }
   ],
   "source": [
    "Demo(\"P0[p] + P1[p]\")\n",
    "Demo(\"P0[p] + (-P1)[q]\")\n",
    "Demo(\"I[p] - Pm[p]\")"
   ]
  },
  {
   "cell_type": "code",
   "execution_count": 12,
   "metadata": {},
   "outputs": [
    {
     "name": "stdout",
     "output_type": "stream",
     "text": [
      "Input String: CX[p q] CX[p q]\n",
      "Parsing Result: (CX[p q] CX[p q])\n",
      "Value: \n",
      "[[1. 0. 0. 0.]\n",
      " [0. 1. 0. 0.]\n",
      " [0. 0. 1. 0.]\n",
      " [0. 0. 0. 1.]][p q]\n",
      "\n",
      "Input String: H[q] CX[p q] H[q]\n",
      "Parsing Result: ((H[q] CX[p q]) H[q])\n",
      "Value: \n",
      "[[ 1.00000000e+00  0.00000000e+00 -2.23711432e-17  0.00000000e+00]\n",
      " [ 0.00000000e+00  1.00000000e+00  0.00000000e+00 -2.23711432e-17]\n",
      " [-2.23711432e-17  0.00000000e+00  1.00000000e+00  0.00000000e+00]\n",
      " [ 0.00000000e+00  2.23711432e-17  0.00000000e+00 -1.00000000e+00]][q p]\n",
      "\n"
     ]
    }
   ],
   "source": [
    "Demo(\"CX[p q] CX[p q]\")\n",
    "Demo(\"H[q] CX[p q] H[q]\")"
   ]
  },
  {
   "cell_type": "code",
   "execution_count": 13,
   "metadata": {},
   "outputs": [
    {
     "name": "stdout",
     "output_type": "stream",
     "text": [
      "Input String: Y[q]^\\dagger Y[q]\n",
      "Parsing Result: ((Y[q]†) Y[q])\n",
      "Value: \n",
      "[[1.+0.j 0.+0.j]\n",
      " [0.+0.j 1.+0.j]][q]\n",
      "\n"
     ]
    }
   ],
   "source": [
    "Demo(\"Y[q]^\\\\dagger Y[q]\")"
   ]
  },
  {
   "cell_type": "code",
   "execution_count": 14,
   "metadata": {},
   "outputs": [
    {
     "name": "stdout",
     "output_type": "stream",
     "text": [
      "Input String: P0[p] \\otimes P1[q]\n",
      "Parsing Result: (P0[p]⊗ P1[q])\n",
      "Value: \n",
      "[[0. 0. 0. 0.]\n",
      " [0. 1. 0. 0.]\n",
      " [0. 0. 0. 0.]\n",
      " [0. 0. 0. 0.]][p q]\n",
      "\n"
     ]
    }
   ],
   "source": [
    "Demo(\"P0[p] \\\\otimes P1[q]\")"
   ]
  },
  {
   "cell_type": "code",
   "execution_count": 15,
   "metadata": {},
   "outputs": [],
   "source": [
    "# Demo(\"CX[p q] \\\\otimes X[p]\")"
   ]
  },
  {
   "cell_type": "code",
   "execution_count": 17,
   "metadata": {},
   "outputs": [
    {
     "name": "stdout",
     "output_type": "stream",
     "text": [
      "Input String: P0[p] \\wedge Pm[q]\n",
      "Parsing Result: (P0[p] ∧ Pm[q])\n",
      "Value: \n",
      "[[ 0.5 -0.5  0.   0. ]\n",
      " [-0.5  0.5  0.   0. ]\n",
      " [ 0.   0.   0.   0. ]\n",
      " [ 0.   0.   0.   0. ]][p q]\n",
      "\n",
      "Input String: P0[p] \\vee Pm[q]\n",
      "Parsing Result: (P0[p] ∨ Pm[q])\n",
      "Value: \n",
      "[[ 1.   0.   0.   0. ]\n",
      " [ 0.   1.   0.   0. ]\n",
      " [ 0.   0.   0.5 -0.5]\n",
      " [ 0.   0.  -0.5  0.5]][p q]\n",
      "\n"
     ]
    }
   ],
   "source": [
    "Demo(\"P0[p] \\\\wedge Pm[q]\")\n",
    "Demo(\"P0[p] \\\\vee Pm[q]\")"
   ]
  },
  {
   "cell_type": "code",
   "execution_count": null,
   "metadata": {},
   "outputs": [],
   "source": []
  }
 ],
 "metadata": {
  "kernelspec": {
   "display_name": "base",
   "language": "python",
   "name": "python3"
  },
  "language_info": {
   "codemirror_mode": {
    "name": "ipython",
    "version": 3
   },
   "file_extension": ".py",
   "mimetype": "text/x-python",
   "name": "python",
   "nbconvert_exporter": "python",
   "pygments_lexer": "ipython3",
   "version": "3.9.12"
  }
 },
 "nbformat": 4,
 "nbformat_minor": 2
}
