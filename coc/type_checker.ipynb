{
 "cells": [
  {
   "cell_type": "markdown",
   "metadata": {},
   "source": [
    "# Rem System"
   ]
  },
  {
   "cell_type": "markdown",
   "metadata": {},
   "source": [
    "Reliable Encode Mechanism"
   ]
  },
  {
   "cell_type": "markdown",
   "metadata": {},
   "source": [
    "## Type Checker Rules"
   ]
  },
  {
   "cell_type": "markdown",
   "metadata": {},
   "source": [
    "Example:\n",
    "```\n",
    "⊢ forall P : Prop, P -> P.\n",
    "```"
   ]
  },
  {
   "cell_type": "code",
   "execution_count": 1,
   "metadata": {},
   "outputs": [],
   "source": [
    "from coc import *\n",
    "coc_wt.gen_doc(\"REM_rule.txt\")"
   ]
  },
  {
   "cell_type": "code",
   "execution_count": 2,
   "metadata": {},
   "outputs": [
    {
     "name": "stdout",
     "output_type": "stream",
     "text": [
      "          \n",
      "(W-Empty) ----------------------------------------\n",
      "          WF([])[]\n"
     ]
    }
   ],
   "source": [
    "p1 = coc.Rem_W_Empty()\n",
    "print(p1.full_proof())"
   ]
  },
  {
   "cell_type": "code",
   "execution_count": 3,
   "metadata": {},
   "outputs": [
    {
     "name": "stdout",
     "output_type": "stream",
     "text": [
      "          WF([])[]\n",
      "(Ax-Prop) ----------------------------------------\n",
      "          [][] ⊢ Prop : Type(1)\n"
     ]
    }
   ],
   "source": [
    "p2 = coc.Rem_Ax_Prop(p1)\n",
    "print(p2.full_proof())"
   ]
  },
  {
   "cell_type": "code",
   "execution_count": 4,
   "metadata": {},
   "outputs": [
    {
     "name": "stdout",
     "output_type": "stream",
     "text": [
      "          \n",
      "(is-sort) ----------------------------------------\n",
      "          Type(1) ∈ S\n"
     ]
    }
   ],
   "source": [
    "p3 = coc.Rem_IsSort(coc.Type_i(1))\n",
    "print(p3.full_proof())"
   ]
  },
  {
   "cell_type": "code",
   "execution_count": 5,
   "metadata": {},
   "outputs": [
    {
     "name": "stdout",
     "output_type": "stream",
     "text": [
      "               \n",
      "(not-in-local) ----------------------------------------\n",
      "               P ∉ []\n"
     ]
    }
   ],
   "source": [
    "p4 = coc.Rem_Cont_Not_Contain_Var(coc.Var(\"P\"), coc.Context())\n",
    "print(p4.full_proof())"
   ]
  },
  {
   "cell_type": "code",
   "execution_count": 6,
   "metadata": {},
   "outputs": [
    {
     "name": "stdout",
     "output_type": "stream",
     "text": [
      "                [][] ⊢ Prop : Type(1)\n",
      "                Type(1) ∈ S\n",
      "                P ∉ []\n",
      "(W-Local-Assum) ----------------------------------------\n",
      "                WF([])[(P : Prop)]\n"
     ]
    }
   ],
   "source": [
    "p5 = coc.Rem_W_Local_Assum(p2, p3, p4)\n",
    "print(p5.full_proof())"
   ]
  },
  {
   "cell_type": "code",
   "execution_count": 7,
   "metadata": {},
   "outputs": [
    {
     "name": "stdout",
     "output_type": "stream",
     "text": [
      "                 \n",
      "(assum-in-local) ----------------------------------------\n",
      "                 (P : Prop) ∈ [(P : Prop)]\n"
     ]
    }
   ],
   "source": [
    "p6 = coc.Rem_Cont_Contain_Typing(coc.LocalTyping(coc.Var(\"P\"), coc.Prop()), p5.Gamma)\n",
    "print(p6.full_proof())"
   ]
  },
  {
   "cell_type": "code",
   "execution_count": 8,
   "metadata": {},
   "outputs": [
    {
     "name": "stdout",
     "output_type": "stream",
     "text": [
      "      WF([])[(P : Prop)]\n",
      "      (P : Prop) ∈ [(P : Prop)]\n",
      "(Var) ----------------------------------------\n",
      "      [][(P : Prop)] ⊢ P : Prop\n"
     ]
    }
   ],
   "source": [
    "p7 = coc.Rem_Var(p5, p6)\n",
    "print(p7.full_proof())"
   ]
  },
  {
   "cell_type": "code",
   "execution_count": 9,
   "metadata": {},
   "outputs": [
    {
     "name": "stdout",
     "output_type": "stream",
     "text": [
      "          \n",
      "(is-sort) ----------------------------------------\n",
      "          Prop ∈ S\n"
     ]
    }
   ],
   "source": [
    "p8 = coc.Rem_IsSort(coc.Prop())\n",
    "print(p8.full_proof())"
   ]
  },
  {
   "cell_type": "code",
   "execution_count": 10,
   "metadata": {},
   "outputs": [
    {
     "name": "stdout",
     "output_type": "stream",
     "text": [
      "               \n",
      "(not-in-local) ----------------------------------------\n",
      "               p ∉ [(P : Prop)]\n"
     ]
    }
   ],
   "source": [
    "p9 = coc.Rem_Cont_Not_Contain_Var(coc.Var(\"p\"), p6.Gamma)\n",
    "print(p9.full_proof())"
   ]
  },
  {
   "cell_type": "code",
   "execution_count": 11,
   "metadata": {},
   "outputs": [
    {
     "name": "stdout",
     "output_type": "stream",
     "text": [
      "                [][(P : Prop)] ⊢ P : Prop\n",
      "                Prop ∈ S\n",
      "                p ∉ [(P : Prop)]\n",
      "(W-Local-Assum) ----------------------------------------\n",
      "                WF([])[(P : Prop); (p : P)]\n"
     ]
    }
   ],
   "source": [
    "p10 = coc.Rem_W_Local_Assum(p7, p8, p9)\n",
    "print(p10.full_proof())"
   ]
  },
  {
   "cell_type": "code",
   "execution_count": 12,
   "metadata": {},
   "outputs": [
    {
     "name": "stdout",
     "output_type": "stream",
     "text": [
      "                 \n",
      "(assum-in-local) ----------------------------------------\n",
      "                 (P : Prop) ∈ [(P : Prop); (p : P)]\n"
     ]
    }
   ],
   "source": [
    "p11 = coc.Rem_Cont_Contain_Typing(coc.LocalTyping(coc.Var(\"P\"), coc.Prop()), p10.Gamma)\n",
    "print(p11.full_proof())"
   ]
  },
  {
   "cell_type": "code",
   "execution_count": 13,
   "metadata": {},
   "outputs": [
    {
     "name": "stdout",
     "output_type": "stream",
     "text": [
      "      WF([])[(P : Prop); (p : P)]\n",
      "      (P : Prop) ∈ [(P : Prop); (p : P)]\n",
      "(Var) ----------------------------------------\n",
      "      [][(P : Prop); (p : P)] ⊢ P : Prop\n"
     ]
    }
   ],
   "source": [
    "p12 = coc.Rem_Var(p10, p11)\n",
    "print(p12.full_proof())"
   ]
  },
  {
   "cell_type": "code",
   "execution_count": 14,
   "metadata": {},
   "outputs": [
    {
     "name": "stdout",
     "output_type": "stream",
     "text": [
      "            [][(P : Prop)] ⊢ P : Prop\n",
      "            Prop ∈ S\n",
      "            [][(P : Prop); (p : P)] ⊢ P : Prop\n",
      "(Prod-Prop) ----------------------------------------\n",
      "            [][(P : Prop)] ⊢ (P → P) : Prop\n"
     ]
    }
   ],
   "source": [
    "p13 = coc.Rem_Prod_Prop(p7, p8, p12)\n",
    "print(p13.full_proof())"
   ]
  },
  {
   "cell_type": "code",
   "execution_count": 15,
   "metadata": {},
   "outputs": [
    {
     "name": "stdout",
     "output_type": "stream",
     "text": [
      "                 \n",
      "(assum-in-local) ----------------------------------------\n",
      "                 (p : P) ∈ [(P : Prop); (p : P)]\n"
     ]
    }
   ],
   "source": [
    "p14 = coc.Rem_Cont_Contain_Typing(coc.LocalTyping(coc.Var(\"p\"), coc.Var(\"P\")), p10.Gamma)\n",
    "print(p14.full_proof())"
   ]
  },
  {
   "cell_type": "code",
   "execution_count": 16,
   "metadata": {},
   "outputs": [
    {
     "name": "stdout",
     "output_type": "stream",
     "text": [
      "      WF([])[(P : Prop); (p : P)]\n",
      "      (p : P) ∈ [(P : Prop); (p : P)]\n",
      "(Var) ----------------------------------------\n",
      "      [][(P : Prop); (p : P)] ⊢ p : P\n"
     ]
    }
   ],
   "source": [
    "p15 = coc.Rem_Var(p10, p14)\n",
    "print(p15.full_proof())"
   ]
  },
  {
   "cell_type": "code",
   "execution_count": 17,
   "metadata": {},
   "outputs": [
    {
     "name": "stdout",
     "output_type": "stream",
     "text": [
      "      [][(P : Prop)] ⊢ (P → P) : Prop\n",
      "      [][(P : Prop); (p : P)] ⊢ p : P\n",
      "(Lam) ----------------------------------------\n",
      "      [][(P : Prop)] ⊢ λp:P, p : (P → P)\n"
     ]
    }
   ],
   "source": [
    "p16 = coc.Rem_Lam(p13, p15)\n",
    "print(p16.full_proof())"
   ]
  },
  {
   "cell_type": "code",
   "execution_count": 18,
   "metadata": {},
   "outputs": [
    {
     "name": "stdout",
     "output_type": "stream",
     "text": [
      "            [][(P : Prop)] ⊢ P : Prop\n",
      "            Prop ∈ S\n",
      "            [][(P : Prop); (p : P)] ⊢ P : Prop\n",
      "(Prod-Prop) ----------------------------------------\n",
      "            [][(P : Prop)] ⊢ (P → P) : Prop\n"
     ]
    }
   ],
   "source": [
    "p17 = coc.Rem_Prod_Prop(p7, p8, p12)\n",
    "print(p17.full_proof())"
   ]
  },
  {
   "cell_type": "code",
   "execution_count": 19,
   "metadata": {},
   "outputs": [
    {
     "name": "stdout",
     "output_type": "stream",
     "text": [
      "            [][] ⊢ Prop : Type(1)\n",
      "            Type(1) ∈ S\n",
      "            [][(P : Prop)] ⊢ (P → P) : Prop\n",
      "(Prod-Prop) ----------------------------------------\n",
      "            [][] ⊢ ∀P:Prop, (P → P) : Prop\n"
     ]
    }
   ],
   "source": [
    "p18 = coc.Rem_Prod_Prop(p2, p3, p17)\n",
    "print(p18.full_proof())"
   ]
  },
  {
   "cell_type": "code",
   "execution_count": 20,
   "metadata": {},
   "outputs": [
    {
     "name": "stdout",
     "output_type": "stream",
     "text": [
      "      [][] ⊢ ∀P:Prop, (P → P) : Prop\n",
      "      [][(P : Prop)] ⊢ λp:P, p : (P → P)\n",
      "(Lam) ----------------------------------------\n",
      "      [][] ⊢ λP:Prop, λp:P, p : ∀P:Prop, (P → P)\n"
     ]
    }
   ],
   "source": [
    "p19 = coc.Rem_Lam(p18, p16)\n",
    "print(p19.full_proof())"
   ]
  },
  {
   "cell_type": "code",
   "execution_count": 21,
   "metadata": {},
   "outputs": [
    {
     "name": "stdout",
     "output_type": "stream",
     "text": [
      "                \n",
      "(not-in-global) ----------------------------------------\n",
      "                id ∉ []\n"
     ]
    }
   ],
   "source": [
    "p20 = coc.Rem_Env_Not_Contain_Const(coc.Const(\"id\"), coc.Environment())\n",
    "print(p20.full_proof())"
   ]
  },
  {
   "cell_type": "code",
   "execution_count": 22,
   "metadata": {},
   "outputs": [
    {
     "name": "stdout",
     "output_type": "stream",
     "text": [
      "               [][] ⊢ λP:Prop, λp:P, p : ∀P:Prop, (P → P)\n",
      "               id ∉ []\n",
      "(W-Global-Def) ----------------------------------------\n",
      "               WF([(id := λP:Prop, λp:P, p : ∀P:Prop, (P → P))])[]\n"
     ]
    }
   ],
   "source": [
    "p21 = coc.Rem_W_Global_Def(p19, p20)\n",
    "print(p21.full_proof())"
   ]
  },
  {
   "cell_type": "markdown",
   "metadata": {},
   "source": [
    "## Automated Type Deduction"
   ]
  },
  {
   "cell_type": "markdown",
   "metadata": {},
   "source": [
    "Example:\n",
    "```\n",
    "⊢ forall P : Prop, P -> P.\n",
    "```"
   ]
  },
  {
   "cell_type": "code",
   "execution_count": 23,
   "metadata": {},
   "outputs": [
    {
     "name": "stdout",
     "output_type": "stream",
     "text": [
      "WF([])[]\n"
     ]
    }
   ],
   "source": [
    "wf = coc_wt.coc.Rem_W_Empty()\n",
    "print(wf)"
   ]
  },
  {
   "cell_type": "code",
   "execution_count": 24,
   "metadata": {},
   "outputs": [
    {
     "name": "stdout",
     "output_type": "stream",
     "text": [
      "WF([(id := λP:Prop, λp:P, p : ∀P:Prop, (P → P))])[]\n"
     ]
    }
   ],
   "source": [
    "wf = coc_wt.GlobalDef(\n",
    "    wf, coc_wt.coc.Const(\"id\"), \n",
    "    coc_wt.parser(\"lambda P : Prop, lambda p : P, p\")\n",
    ")\n",
    "print(wf)"
   ]
  },
  {
   "cell_type": "markdown",
   "metadata": {},
   "source": [
    "## Reduction and Normal Form"
   ]
  },
  {
   "cell_type": "markdown",
   "metadata": {},
   "source": [
    "Problems still exist."
   ]
  },
  {
   "cell_type": "code",
   "execution_count": 25,
   "metadata": {},
   "outputs": [
    {
     "ename": "TypeError",
     "evalue": "local_assum() missing 1 required positional argument: 'T'",
     "output_type": "error",
     "traceback": [
      "\u001b[1;31m---------------------------------------------------------------------------\u001b[0m",
      "\u001b[1;31mTypeError\u001b[0m                                 Traceback (most recent call last)",
      "\u001b[1;32mc:\\Library\\Ph.D. Projects\\24 Rem\\type_checker.ipynb Cell 33\u001b[0m line \u001b[0;36m<cell line: 1>\u001b[1;34m()\u001b[0m\n\u001b[1;32m----> <a href='vscode-notebook-cell:/c%3A/Library/Ph.D.%20Projects/24%20Rem/type_checker.ipynb#X43sZmlsZQ%3D%3D?line=0'>1</a>\u001b[0m wf \u001b[39m=\u001b[39m local_assum(wf, Var(\u001b[39m'\u001b[39;49m\u001b[39mQ\u001b[39;49m\u001b[39m'\u001b[39;49m), Prop())\n\u001b[0;32m      <a href='vscode-notebook-cell:/c%3A/Library/Ph.D.%20Projects/24%20Rem/type_checker.ipynb#X43sZmlsZQ%3D%3D?line=1'>2</a>\u001b[0m t \u001b[39m=\u001b[39m normal_form(\n\u001b[0;32m      <a href='vscode-notebook-cell:/c%3A/Library/Ph.D.%20Projects/24%20Rem/type_checker.ipynb#X43sZmlsZQ%3D%3D?line=2'>3</a>\u001b[0m     wf,\n\u001b[0;32m      <a href='vscode-notebook-cell:/c%3A/Library/Ph.D.%20Projects/24%20Rem/type_checker.ipynb#X43sZmlsZQ%3D%3D?line=3'>4</a>\u001b[0m     rem_coc\u001b[39m.\u001b[39mparser(\u001b[39m\"\u001b[39m\u001b[39mconst id Q\u001b[39m\u001b[39m\"\u001b[39m)\n\u001b[0;32m      <a href='vscode-notebook-cell:/c%3A/Library/Ph.D.%20Projects/24%20Rem/type_checker.ipynb#X43sZmlsZQ%3D%3D?line=4'>5</a>\u001b[0m )\n\u001b[0;32m      <a href='vscode-notebook-cell:/c%3A/Library/Ph.D.%20Projects/24%20Rem/type_checker.ipynb#X43sZmlsZQ%3D%3D?line=5'>6</a>\u001b[0m \u001b[39mprint\u001b[39m(t)\n",
      "\u001b[1;31mTypeError\u001b[0m: local_assum() missing 1 required positional argument: 'T'"
     ]
    }
   ],
   "source": [
    "wf = local_assum(wf, Var('Q'), Prop())\n",
    "t = normal_form(\n",
    "    wf,\n",
    "    rem_coc.parser(\"const id Q\")\n",
    ")\n",
    "print(t)"
   ]
  },
  {
   "cell_type": "code",
   "execution_count": null,
   "metadata": {},
   "outputs": [
    {
     "ename": "REM_Error",
     "evalue": "\n(Prod-Type): Rem does not accept because: \n\n's ∈ {SProp, Type(i)}' not satisfied for s = Prop.\n\nRem reminds you of the rule.\n\n        E[Γ] ⊢ T : s\n        s ∈ {SProp, Type(i)}\n        E[Γ::(x:T)] ⊢ U : Type(i)\n        ---------------------------\n        E[Γ] ⊢ ∀x:T, U : Type(i)\n    ",
     "output_type": "error",
     "traceback": [
      "\u001b[1;31m---------------------------------------------------------------------------\u001b[0m",
      "\u001b[1;31mREM_Error\u001b[0m                                 Traceback (most recent call last)",
      "\u001b[1;32mc:\\Library\\Ph.D. Projects\\24 Rem\\type_checker.ipynb Cell 33\u001b[0m line \u001b[0;36m<cell line: 1>\u001b[1;34m()\u001b[0m\n\u001b[1;32m----> <a href='vscode-notebook-cell:/c%3A/Library/Ph.D.%20Projects/24%20Rem/type_checker.ipynb#X44sZmlsZQ%3D%3D?line=0'>1</a>\u001b[0m wt \u001b[39m=\u001b[39m well_typed_pf(wf, rem_coc\u001b[39m.\u001b[39;49mparser(\u001b[39m\"\u001b[39;49m\u001b[39mlambda q : Q, Prop\u001b[39;49m\u001b[39m\"\u001b[39;49m))\n\u001b[0;32m      <a href='vscode-notebook-cell:/c%3A/Library/Ph.D.%20Projects/24%20Rem/type_checker.ipynb#X44sZmlsZQ%3D%3D?line=1'>2</a>\u001b[0m \u001b[39mprint\u001b[39m(wt)\n",
      "File \u001b[1;32mc:\\Library\\Ph.D. Projects\\24 Rem\\Rem\\coc\\periphery\\type_calc.py:90\u001b[0m, in \u001b[0;36mwell_typed_pf\u001b[1;34m(wf, term)\u001b[0m\n\u001b[0;32m     88\u001b[0m     \u001b[39m# E[Γ] ⊢ ∀x:T, U : s\u001b[39;00m\n\u001b[0;32m     89\u001b[0m     prod \u001b[39m=\u001b[39m Prod(term\u001b[39m.\u001b[39mx, term\u001b[39m.\u001b[39mT, wt_inner\u001b[39m.\u001b[39mT)\n\u001b[1;32m---> 90\u001b[0m     wt_outer \u001b[39m=\u001b[39m well_typed_pf(wf, prod)\n\u001b[0;32m     92\u001b[0m     \u001b[39mreturn\u001b[39;00m Rem_Lam(wt_outer, wt_inner)\n\u001b[0;32m     94\u001b[0m \u001b[39m# App\u001b[39;00m\n",
      "File \u001b[1;32mc:\\Library\\Ph.D. Projects\\24 Rem\\Rem\\coc\\periphery\\type_calc.py:71\u001b[0m, in \u001b[0;36mwell_typed_pf\u001b[1;34m(wf, term)\u001b[0m\n\u001b[0;32m     69\u001b[0m     \u001b[39mreturn\u001b[39;00m Rem_Prod_Set(wt, s_sort, wt_inner)\n\u001b[0;32m     70\u001b[0m \u001b[39melif\u001b[39;00m \u001b[39misinstance\u001b[39m(wt_inner\u001b[39m.\u001b[39mT, Type_i):\n\u001b[1;32m---> 71\u001b[0m     \u001b[39mreturn\u001b[39;00m Rem_Prod_Type(wt, s_sort, wt_inner)\n\u001b[0;32m     72\u001b[0m \u001b[39melse\u001b[39;00m:\n\u001b[0;32m     73\u001b[0m     \u001b[39mraise\u001b[39;00m \u001b[39mException\u001b[39;00m()\n",
      "File \u001b[1;32mc:\\Library\\Ph.D. Projects\\24 Rem\\Rem\\coc\\core\\typing_rule.py:712\u001b[0m, in \u001b[0;36mRem_Prod_Type.__init__\u001b[1;34m(self, wt_outer, s_sort, wt_inner)\u001b[0m\n\u001b[0;32m    703\u001b[0m \u001b[39m'''\u001b[39;00m\n\u001b[0;32m    704\u001b[0m \u001b[39mParameters -> Rule Terms:\u001b[39;00m\n\u001b[0;32m    705\u001b[0m \u001b[39m- `wt_outer` -> `E[Γ] ⊢ T : s`\u001b[39;00m\n\u001b[0;32m    706\u001b[0m \u001b[39m- `s_sort` -> `s ∈ {SProp, Type(i)}`\u001b[39;00m\n\u001b[0;32m    707\u001b[0m \u001b[39m- `wt_inner` -> `E[Γ::(x:T)] ⊢ U : Type(i)`\u001b[39;00m\n\u001b[0;32m    708\u001b[0m \u001b[39m'''\u001b[39;00m\n\u001b[0;32m    710\u001b[0m \u001b[39mself\u001b[39m\u001b[39m.\u001b[39mRem_type_check(wt_outer, Rem_WT, \u001b[39m'\u001b[39m\u001b[39mE[Γ] ⊢ T : s\u001b[39m\u001b[39m'\u001b[39m)\n\u001b[1;32m--> 712\u001b[0m \u001b[39mself\u001b[39;49m\u001b[39m.\u001b[39;49mRem_other_check(\n\u001b[0;32m    713\u001b[0m     (\u001b[39misinstance\u001b[39;49m(s_sort\u001b[39m.\u001b[39;49ms, SProp) \u001b[39mor\u001b[39;49;00m \u001b[39misinstance\u001b[39;49m(s_sort\u001b[39m.\u001b[39;49ms, Type)),\n\u001b[0;32m    714\u001b[0m     \u001b[39mf\u001b[39;49m\u001b[39m\"\u001b[39;49m\u001b[39m'\u001b[39;49m\u001b[39ms ∈ \u001b[39;49m\u001b[39m{{\u001b[39;49;00m\u001b[39mSProp, Type(i)\u001b[39;49m\u001b[39m}}\u001b[39;49;00m\u001b[39m'\u001b[39;49m\u001b[39m not satisfied for s = \u001b[39;49m\u001b[39m{\u001b[39;49;00ms_sort\u001b[39m.\u001b[39;49ms\u001b[39m}\u001b[39;49;00m\u001b[39m.\u001b[39;49m\u001b[39m\"\u001b[39;49m\n\u001b[0;32m    715\u001b[0m )\n\u001b[0;32m    718\u001b[0m \u001b[39mself\u001b[39m\u001b[39m.\u001b[39mRem_type_check(wt_inner, Rem_WT, \u001b[39m'\u001b[39m\u001b[39mE[Γ::(x:T)] ⊢ U : Type(i)\u001b[39m\u001b[39m'\u001b[39m)\n\u001b[0;32m    720\u001b[0m \u001b[39m# consistent `s`\u001b[39;00m\n",
      "File \u001b[1;32mc:\\Library\\Ph.D. Projects\\24 Rem\\Rem\\rem.py:177\u001b[0m, in \u001b[0;36mRemTerm.Rem_other_check\u001b[1;34m(self, expr, reason)\u001b[0m\n\u001b[0;32m    172\u001b[0m \u001b[39m'''\u001b[39;00m\n\u001b[0;32m    173\u001b[0m \u001b[39mIf the `expr` does not hold, it will raise a formated error with information `reason`.\u001b[39;00m\n\u001b[0;32m    174\u001b[0m \u001b[39mThis is intended for the check for correct operations.\u001b[39;00m\n\u001b[0;32m    175\u001b[0m \u001b[39m'''\u001b[39;00m\n\u001b[0;32m    176\u001b[0m \u001b[39mif\u001b[39;00m \u001b[39mnot\u001b[39;00m expr:\n\u001b[1;32m--> 177\u001b[0m     \u001b[39mraise\u001b[39;00m REM_Error(\u001b[39m\"\u001b[39m\u001b[39m\\n\u001b[39;00m\u001b[39m(\u001b[39m\u001b[39m{}\u001b[39;00m\u001b[39m): Rem does not accept because: \u001b[39m\u001b[39m\\n\u001b[39;00m\u001b[39m\\n\u001b[39;00m\u001b[39m{}\u001b[39;00m\u001b[39m\\n\u001b[39;00m\u001b[39m\\n\u001b[39;00m\u001b[39mRem reminds you of the rule.\u001b[39m\u001b[39m\\n\u001b[39;00m\u001b[39m{}\u001b[39;00m\u001b[39m\"\u001b[39m\u001b[39m.\u001b[39mformat(\u001b[39mself\u001b[39m\u001b[39m.\u001b[39mRem_term_name, reason, \u001b[39mself\u001b[39m\u001b[39m.\u001b[39mRem_term_def))\n",
      "\u001b[1;31mREM_Error\u001b[0m: \n(Prod-Type): Rem does not accept because: \n\n's ∈ {SProp, Type(i)}' not satisfied for s = Prop.\n\nRem reminds you of the rule.\n\n        E[Γ] ⊢ T : s\n        s ∈ {SProp, Type(i)}\n        E[Γ::(x:T)] ⊢ U : Type(i)\n        ---------------------------\n        E[Γ] ⊢ ∀x:T, U : Type(i)\n    "
     ]
    }
   ],
   "source": [
    "wt = well_typed_pf(wf, rem_coc.parser(\"lambda q : Q, Prop\"))\n",
    "print(wt)"
   ]
  },
  {
   "cell_type": "code",
   "execution_count": null,
   "metadata": {},
   "outputs": [
    {
     "ename": "REM_Error",
     "evalue": "\n(Prod-Type): Rem does not accept because: \n\n's ∈ {SProp, Type(i)}' not satisfied for s = Prop.\n\nRem reminds you of the rule.\n\n        E[Γ] ⊢ T : s\n        s ∈ {SProp, Type(i)}\n        E[Γ::(x:T)] ⊢ U : Type(i)\n        ---------------------------\n        E[Γ] ⊢ ∀x:T, U : Type(i)\n    ",
     "output_type": "error",
     "traceback": [
      "\u001b[1;31m---------------------------------------------------------------------------\u001b[0m",
      "\u001b[1;31mREM_Error\u001b[0m                                 Traceback (most recent call last)",
      "\u001b[1;32mc:\\Library\\Ph.D. Projects\\24 Rem\\type_checker.ipynb Cell 33\u001b[0m line \u001b[0;36m<cell line: 1>\u001b[1;34m()\u001b[0m\n\u001b[1;32m----> <a href='vscode-notebook-cell:/c%3A/Library/Ph.D.%20Projects/24%20Rem/type_checker.ipynb#X44sZmlsZQ%3D%3D?line=0'>1</a>\u001b[0m \u001b[39mprint\u001b[39m(conv_pf(\n\u001b[0;32m      <a href='vscode-notebook-cell:/c%3A/Library/Ph.D.%20Projects/24%20Rem/type_checker.ipynb#X44sZmlsZQ%3D%3D?line=1'>2</a>\u001b[0m     wf,\n\u001b[0;32m      <a href='vscode-notebook-cell:/c%3A/Library/Ph.D.%20Projects/24%20Rem/type_checker.ipynb#X44sZmlsZQ%3D%3D?line=2'>3</a>\u001b[0m     rem_coc\u001b[39m.\u001b[39;49mparser(\u001b[39m\"\u001b[39;49m\u001b[39mlambda q : Q, Set\u001b[39;49m\u001b[39m\"\u001b[39;49m),\n\u001b[0;32m      <a href='vscode-notebook-cell:/c%3A/Library/Ph.D.%20Projects/24%20Rem/type_checker.ipynb#X44sZmlsZQ%3D%3D?line=3'>4</a>\u001b[0m     rem_coc\u001b[39m.\u001b[39;49mparser(\u001b[39m\"\u001b[39;49m\u001b[39mconst id Q\u001b[39;49m\u001b[39m\"\u001b[39;49m)\n\u001b[0;32m      <a href='vscode-notebook-cell:/c%3A/Library/Ph.D.%20Projects/24%20Rem/type_checker.ipynb#X44sZmlsZQ%3D%3D?line=4'>5</a>\u001b[0m ))\n",
      "File \u001b[1;32mc:\\Library\\Ph.D. Projects\\24 Rem\\Rem\\coc\\periphery\\conv.py:24\u001b[0m, in \u001b[0;36mconv_pf\u001b[1;34m(wf, t1, t2)\u001b[0m\n\u001b[0;32m     21\u001b[0m red_seq1 \u001b[39m=\u001b[39m Rem_red_seq_alg(wf, t1)\n\u001b[0;32m     22\u001b[0m red_seq2 \u001b[39m=\u001b[39m Rem_red_seq_alg(wf, t2)\n\u001b[1;32m---> 24\u001b[0m wt_u1 \u001b[39m=\u001b[39m well_typed_pf(wf, red_seq1\u001b[39m.\u001b[39;49mu)\n\u001b[0;32m     25\u001b[0m wt_u2 \u001b[39m=\u001b[39m well_typed_pf(wf, red_seq2\u001b[39m.\u001b[39mu)\n\u001b[0;32m     27\u001b[0m \u001b[39m# check convertibility\u001b[39;00m\n",
      "File \u001b[1;32mc:\\Library\\Ph.D. Projects\\24 Rem\\Rem\\coc\\periphery\\type_calc.py:90\u001b[0m, in \u001b[0;36mwell_typed_pf\u001b[1;34m(wf, term)\u001b[0m\n\u001b[0;32m     88\u001b[0m     \u001b[39m# E[Γ] ⊢ ∀x:T, U : s\u001b[39;00m\n\u001b[0;32m     89\u001b[0m     prod \u001b[39m=\u001b[39m Prod(term\u001b[39m.\u001b[39mx, term\u001b[39m.\u001b[39mT, wt_inner\u001b[39m.\u001b[39mT)\n\u001b[1;32m---> 90\u001b[0m     wt_outer \u001b[39m=\u001b[39m well_typed_pf(wf, prod)\n\u001b[0;32m     92\u001b[0m     \u001b[39mreturn\u001b[39;00m Rem_Lam(wt_outer, wt_inner)\n\u001b[0;32m     94\u001b[0m \u001b[39m# App\u001b[39;00m\n",
      "File \u001b[1;32mc:\\Library\\Ph.D. Projects\\24 Rem\\Rem\\coc\\periphery\\type_calc.py:71\u001b[0m, in \u001b[0;36mwell_typed_pf\u001b[1;34m(wf, term)\u001b[0m\n\u001b[0;32m     69\u001b[0m     \u001b[39mreturn\u001b[39;00m Rem_Prod_Set(wt, s_sort, wt_inner)\n\u001b[0;32m     70\u001b[0m \u001b[39melif\u001b[39;00m \u001b[39misinstance\u001b[39m(wt_inner\u001b[39m.\u001b[39mT, Type_i):\n\u001b[1;32m---> 71\u001b[0m     \u001b[39mreturn\u001b[39;00m Rem_Prod_Type(wt, s_sort, wt_inner)\n\u001b[0;32m     72\u001b[0m \u001b[39melse\u001b[39;00m:\n\u001b[0;32m     73\u001b[0m     \u001b[39mraise\u001b[39;00m \u001b[39mException\u001b[39;00m()\n",
      "File \u001b[1;32mc:\\Library\\Ph.D. Projects\\24 Rem\\Rem\\coc\\core\\typing_rule.py:712\u001b[0m, in \u001b[0;36mRem_Prod_Type.__init__\u001b[1;34m(self, wt_outer, s_sort, wt_inner)\u001b[0m\n\u001b[0;32m    703\u001b[0m \u001b[39m'''\u001b[39;00m\n\u001b[0;32m    704\u001b[0m \u001b[39mParameters -> Rule Terms:\u001b[39;00m\n\u001b[0;32m    705\u001b[0m \u001b[39m- `wt_outer` -> `E[Γ] ⊢ T : s`\u001b[39;00m\n\u001b[0;32m    706\u001b[0m \u001b[39m- `s_sort` -> `s ∈ {SProp, Type(i)}`\u001b[39;00m\n\u001b[0;32m    707\u001b[0m \u001b[39m- `wt_inner` -> `E[Γ::(x:T)] ⊢ U : Type(i)`\u001b[39;00m\n\u001b[0;32m    708\u001b[0m \u001b[39m'''\u001b[39;00m\n\u001b[0;32m    710\u001b[0m \u001b[39mself\u001b[39m\u001b[39m.\u001b[39mRem_type_check(wt_outer, Rem_WT, \u001b[39m'\u001b[39m\u001b[39mE[Γ] ⊢ T : s\u001b[39m\u001b[39m'\u001b[39m)\n\u001b[1;32m--> 712\u001b[0m \u001b[39mself\u001b[39;49m\u001b[39m.\u001b[39;49mRem_other_check(\n\u001b[0;32m    713\u001b[0m     (\u001b[39misinstance\u001b[39;49m(s_sort\u001b[39m.\u001b[39;49ms, SProp) \u001b[39mor\u001b[39;49;00m \u001b[39misinstance\u001b[39;49m(s_sort\u001b[39m.\u001b[39;49ms, Type)),\n\u001b[0;32m    714\u001b[0m     \u001b[39mf\u001b[39;49m\u001b[39m\"\u001b[39;49m\u001b[39m'\u001b[39;49m\u001b[39ms ∈ \u001b[39;49m\u001b[39m{{\u001b[39;49;00m\u001b[39mSProp, Type(i)\u001b[39;49m\u001b[39m}}\u001b[39;49;00m\u001b[39m'\u001b[39;49m\u001b[39m not satisfied for s = \u001b[39;49m\u001b[39m{\u001b[39;49;00ms_sort\u001b[39m.\u001b[39;49ms\u001b[39m}\u001b[39;49;00m\u001b[39m.\u001b[39;49m\u001b[39m\"\u001b[39;49m\n\u001b[0;32m    715\u001b[0m )\n\u001b[0;32m    718\u001b[0m \u001b[39mself\u001b[39m\u001b[39m.\u001b[39mRem_type_check(wt_inner, Rem_WT, \u001b[39m'\u001b[39m\u001b[39mE[Γ::(x:T)] ⊢ U : Type(i)\u001b[39m\u001b[39m'\u001b[39m)\n\u001b[0;32m    720\u001b[0m \u001b[39m# consistent `s`\u001b[39;00m\n",
      "File \u001b[1;32mc:\\Library\\Ph.D. Projects\\24 Rem\\Rem\\rem.py:177\u001b[0m, in \u001b[0;36mRemTerm.Rem_other_check\u001b[1;34m(self, expr, reason)\u001b[0m\n\u001b[0;32m    172\u001b[0m \u001b[39m'''\u001b[39;00m\n\u001b[0;32m    173\u001b[0m \u001b[39mIf the `expr` does not hold, it will raise a formated error with information `reason`.\u001b[39;00m\n\u001b[0;32m    174\u001b[0m \u001b[39mThis is intended for the check for correct operations.\u001b[39;00m\n\u001b[0;32m    175\u001b[0m \u001b[39m'''\u001b[39;00m\n\u001b[0;32m    176\u001b[0m \u001b[39mif\u001b[39;00m \u001b[39mnot\u001b[39;00m expr:\n\u001b[1;32m--> 177\u001b[0m     \u001b[39mraise\u001b[39;00m REM_Error(\u001b[39m\"\u001b[39m\u001b[39m\\n\u001b[39;00m\u001b[39m(\u001b[39m\u001b[39m{}\u001b[39;00m\u001b[39m): Rem does not accept because: \u001b[39m\u001b[39m\\n\u001b[39;00m\u001b[39m\\n\u001b[39;00m\u001b[39m{}\u001b[39;00m\u001b[39m\\n\u001b[39;00m\u001b[39m\\n\u001b[39;00m\u001b[39mRem reminds you of the rule.\u001b[39m\u001b[39m\\n\u001b[39;00m\u001b[39m{}\u001b[39;00m\u001b[39m\"\u001b[39m\u001b[39m.\u001b[39mformat(\u001b[39mself\u001b[39m\u001b[39m.\u001b[39mRem_term_name, reason, \u001b[39mself\u001b[39m\u001b[39m.\u001b[39mRem_term_def))\n",
      "\u001b[1;31mREM_Error\u001b[0m: \n(Prod-Type): Rem does not accept because: \n\n's ∈ {SProp, Type(i)}' not satisfied for s = Prop.\n\nRem reminds you of the rule.\n\n        E[Γ] ⊢ T : s\n        s ∈ {SProp, Type(i)}\n        E[Γ::(x:T)] ⊢ U : Type(i)\n        ---------------------------\n        E[Γ] ⊢ ∀x:T, U : Type(i)\n    "
     ]
    }
   ],
   "source": [
    "print(conv_pf(\n",
    "    wf,\n",
    "    rem_coc.parser(\"lambda q : Q, Prop\"),\n",
    "    rem_coc.parser(\"const id Q\")\n",
    "))"
   ]
  },
  {
   "cell_type": "code",
   "execution_count": null,
   "metadata": {},
   "outputs": [],
   "source": []
  }
 ],
 "metadata": {
  "kernelspec": {
   "display_name": "base",
   "language": "python",
   "name": "python3"
  },
  "language_info": {
   "codemirror_mode": {
    "name": "ipython",
    "version": 3
   },
   "file_extension": ".py",
   "mimetype": "text/x-python",
   "name": "python",
   "nbconvert_exporter": "python",
   "pygments_lexer": "ipython3",
   "version": "3.9.12"
  }
 },
 "nbformat": 4,
 "nbformat_minor": 2
}
