{
 "cells": [
  {
   "cell_type": "markdown",
   "metadata": {},
   "source": [
    "# Rem System"
   ]
  },
  {
   "cell_type": "markdown",
   "metadata": {},
   "source": [
    "## Type Checker"
   ]
  },
  {
   "cell_type": "markdown",
   "metadata": {},
   "source": [
    "Example:\n",
    "```\n",
    "⊢ forall P : Prop, P -> P.\n",
    "```"
   ]
  },
  {
   "cell_type": "code",
   "execution_count": 22,
   "metadata": {},
   "outputs": [],
   "source": [
    "from Rem import *"
   ]
  },
  {
   "cell_type": "code",
   "execution_count": 23,
   "metadata": {},
   "outputs": [
    {
     "name": "stdout",
     "output_type": "stream",
     "text": [
      "          \n",
      "(W-Empty) ----------------------------------------\n",
      "          WF([])[]\n"
     ]
    }
   ],
   "source": [
    "p1 = Rem_W_Empty()\n",
    "print(p1.full_proof())"
   ]
  },
  {
   "cell_type": "code",
   "execution_count": 24,
   "metadata": {},
   "outputs": [
    {
     "name": "stdout",
     "output_type": "stream",
     "text": [
      "          WF([])[]\n",
      "(Ax-Prop) ----------------------------------------\n",
      "          [][] ⊢ Prop : Type(1)\n"
     ]
    }
   ],
   "source": [
    "p2 = Rem_Ax_Prop(p1)\n",
    "print(p2.full_proof())"
   ]
  },
  {
   "cell_type": "code",
   "execution_count": 25,
   "metadata": {},
   "outputs": [
    {
     "name": "stdout",
     "output_type": "stream",
     "text": [
      "          \n",
      "(is-sort) ----------------------------------------\n",
      "          Type(1) ∈ S\n"
     ]
    }
   ],
   "source": [
    "p3 = Rem_IsSort(Type_i(1))\n",
    "print(p3.full_proof())"
   ]
  },
  {
   "cell_type": "code",
   "execution_count": 26,
   "metadata": {},
   "outputs": [
    {
     "name": "stdout",
     "output_type": "stream",
     "text": [
      "               \n",
      "(not-in-local) ----------------------------------------\n",
      "               P ∉ []\n"
     ]
    }
   ],
   "source": [
    "p4 = Rem_Cont_Not_Contain_Var(Var(\"P\"), Context())\n",
    "print(p4.full_proof())"
   ]
  },
  {
   "cell_type": "code",
   "execution_count": 27,
   "metadata": {},
   "outputs": [
    {
     "name": "stdout",
     "output_type": "stream",
     "text": [
      "                [][] ⊢ Prop : Type(1)\n",
      "                Type(1) ∈ S\n",
      "                P ∉ []\n",
      "(W-Local-Assum) ----------------------------------------\n",
      "                WF([])[(P : Prop)]\n"
     ]
    }
   ],
   "source": [
    "p5 = Rem_W_Local_Assum(p2, p3, p4)\n",
    "print(p5.full_proof())"
   ]
  },
  {
   "cell_type": "code",
   "execution_count": 28,
   "metadata": {},
   "outputs": [
    {
     "name": "stdout",
     "output_type": "stream",
     "text": [
      "                 \n",
      "(assum-in-local) ----------------------------------------\n",
      "                 (P : Prop) ∈ [(P : Prop)]\n"
     ]
    }
   ],
   "source": [
    "p6 = Rem_Cont_Contain_Typing(LocalTyping(Var(\"P\"), Prop()), p5.Gamma)\n",
    "print(p6.full_proof())"
   ]
  },
  {
   "cell_type": "code",
   "execution_count": 29,
   "metadata": {},
   "outputs": [
    {
     "name": "stdout",
     "output_type": "stream",
     "text": [
      "      WF([])[(P : Prop)]\n",
      "      (P : Prop) ∈ [(P : Prop)]\n",
      "(Var) ----------------------------------------\n",
      "      [][(P : Prop)] ⊢ P : Prop\n"
     ]
    }
   ],
   "source": [
    "p7 = Rem_Var(p5, p6)\n",
    "print(p7.full_proof())"
   ]
  },
  {
   "cell_type": "code",
   "execution_count": 30,
   "metadata": {},
   "outputs": [
    {
     "name": "stdout",
     "output_type": "stream",
     "text": [
      "          \n",
      "(is-sort) ----------------------------------------\n",
      "          Prop ∈ S\n"
     ]
    }
   ],
   "source": [
    "p8 = Rem_IsSort(Prop())\n",
    "print(p8.full_proof())"
   ]
  },
  {
   "cell_type": "code",
   "execution_count": 31,
   "metadata": {},
   "outputs": [
    {
     "name": "stdout",
     "output_type": "stream",
     "text": [
      "               \n",
      "(not-in-local) ----------------------------------------\n",
      "               p ∉ [(P : Prop)]\n"
     ]
    }
   ],
   "source": [
    "p9 = Rem_Cont_Not_Contain_Var(Var(\"p\"), p6.Gamma)\n",
    "print(p9.full_proof())"
   ]
  },
  {
   "cell_type": "code",
   "execution_count": 32,
   "metadata": {},
   "outputs": [
    {
     "name": "stdout",
     "output_type": "stream",
     "text": [
      "                [][(P : Prop)] ⊢ P : Prop\n",
      "                Prop ∈ S\n",
      "                p ∉ [(P : Prop)]\n",
      "(W-Local-Assum) ----------------------------------------\n",
      "                WF([])[(P : Prop); (p : P)]\n"
     ]
    }
   ],
   "source": [
    "p10 = Rem_W_Local_Assum(p7, p8, p9)\n",
    "print(p10.full_proof())"
   ]
  },
  {
   "cell_type": "code",
   "execution_count": 33,
   "metadata": {},
   "outputs": [
    {
     "name": "stdout",
     "output_type": "stream",
     "text": [
      "                 \n",
      "(assum-in-local) ----------------------------------------\n",
      "                 (P : Prop) ∈ [(P : Prop); (p : P)]\n"
     ]
    }
   ],
   "source": [
    "p11 = Rem_Cont_Contain_Typing(LocalTyping(Var(\"P\"), Prop()), p10.Gamma)\n",
    "print(p11.full_proof())"
   ]
  },
  {
   "cell_type": "code",
   "execution_count": 34,
   "metadata": {},
   "outputs": [
    {
     "name": "stdout",
     "output_type": "stream",
     "text": [
      "      WF([])[(P : Prop); (p : P)]\n",
      "      (P : Prop) ∈ [(P : Prop); (p : P)]\n",
      "(Var) ----------------------------------------\n",
      "      [][(P : Prop); (p : P)] ⊢ P : Prop\n"
     ]
    }
   ],
   "source": [
    "p12 = Rem_Var(p10, p11)\n",
    "print(p12.full_proof())"
   ]
  },
  {
   "cell_type": "code",
   "execution_count": 35,
   "metadata": {},
   "outputs": [
    {
     "name": "stdout",
     "output_type": "stream",
     "text": [
      "            [][(P : Prop)] ⊢ P : Prop\n",
      "            Prop ∈ S\n",
      "            [][(P : Prop); (p : P)] ⊢ P : Prop\n",
      "(Prod-Prop) ----------------------------------------\n",
      "            [][(P : Prop)] ⊢ (P -> P) : Prop\n"
     ]
    }
   ],
   "source": [
    "p13 = Rem_Prod_Prop(p7, p8, p12)\n",
    "print(p13.full_proof())"
   ]
  },
  {
   "cell_type": "code",
   "execution_count": 36,
   "metadata": {},
   "outputs": [
    {
     "name": "stdout",
     "output_type": "stream",
     "text": [
      "                 \n",
      "(assum-in-local) ----------------------------------------\n",
      "                 (p : P) ∈ [(P : Prop); (p : P)]\n"
     ]
    }
   ],
   "source": [
    "p14 = Rem_Cont_Contain_Typing(LocalTyping(Var(\"p\"), Var(\"P\")), p10.Gamma)\n",
    "print(p14.full_proof())"
   ]
  },
  {
   "cell_type": "code",
   "execution_count": 37,
   "metadata": {},
   "outputs": [
    {
     "name": "stdout",
     "output_type": "stream",
     "text": [
      "      WF([])[(P : Prop); (p : P)]\n",
      "      (p : P) ∈ [(P : Prop); (p : P)]\n",
      "(Var) ----------------------------------------\n",
      "      [][(P : Prop); (p : P)] ⊢ p : P\n"
     ]
    }
   ],
   "source": [
    "p15 = Rem_Var(p10, p14)\n",
    "print(p15.full_proof())"
   ]
  },
  {
   "cell_type": "code",
   "execution_count": 38,
   "metadata": {},
   "outputs": [
    {
     "name": "stdout",
     "output_type": "stream",
     "text": [
      "      [][(P : Prop)] ⊢ (P -> P) : Prop\n",
      "      [][(P : Prop); (p : P)] ⊢ p : P\n",
      "(Lam) ----------------------------------------\n",
      "      [][(P : Prop)] ⊢ fun(p:P)=>p : (P -> P)\n"
     ]
    }
   ],
   "source": [
    "p16 = Rem_Lam(p13, p15)\n",
    "print(p16.full_proof())"
   ]
  },
  {
   "cell_type": "code",
   "execution_count": 39,
   "metadata": {},
   "outputs": [
    {
     "name": "stdout",
     "output_type": "stream",
     "text": [
      "            [][(P : Prop)] ⊢ P : Prop\n",
      "            Prop ∈ S\n",
      "            [][(P : Prop); (p : P)] ⊢ P : Prop\n",
      "(Prod-Prop) ----------------------------------------\n",
      "            [][(P : Prop)] ⊢ (P -> P) : Prop\n"
     ]
    }
   ],
   "source": [
    "p17 = Rem_Prod_Prop(p7, p8, p12)\n",
    "print(p17.full_proof())"
   ]
  },
  {
   "cell_type": "code",
   "execution_count": 40,
   "metadata": {},
   "outputs": [
    {
     "name": "stdout",
     "output_type": "stream",
     "text": [
      "            [][] ⊢ Prop : Type(1)\n",
      "            Type(1) ∈ S\n",
      "            [][(P : Prop)] ⊢ (P -> P) : Prop\n",
      "(Prod-Prop) ----------------------------------------\n",
      "            [][] ⊢ forall P:Prop, (P -> P) : Prop\n"
     ]
    }
   ],
   "source": [
    "p18 = Rem_Prod_Prop(p2, p3, p17)\n",
    "print(p18.full_proof())"
   ]
  },
  {
   "cell_type": "code",
   "execution_count": 41,
   "metadata": {},
   "outputs": [
    {
     "name": "stdout",
     "output_type": "stream",
     "text": [
      "                \n",
      "(not-in-global) ----------------------------------------\n",
      "                id ∉ []\n"
     ]
    }
   ],
   "source": [
    "p19 = Rem_Env_Not_Contain_Const(Const(\"id\"), Environment())\n",
    "print(p19.full_proof())"
   ]
  },
  {
   "cell_type": "code",
   "execution_count": 42,
   "metadata": {},
   "outputs": [
    {
     "name": "stdout",
     "output_type": "stream",
     "text": [
      "               [][] ⊢ forall P:Prop, (P -> P) : Prop\n",
      "               id ∉ []\n",
      "(W-Global-Def) ----------------------------------------\n",
      "               WF([(id := forall P:Prop, (P -> P) : Prop)])[]\n"
     ]
    }
   ],
   "source": [
    "p20 = Rem_W_Global_Def(p18, p19)\n",
    "print(p20.full_proof())"
   ]
  },
  {
   "cell_type": "code",
   "execution_count": null,
   "metadata": {},
   "outputs": [],
   "source": []
  }
 ],
 "metadata": {
  "kernelspec": {
   "display_name": "base",
   "language": "python",
   "name": "python3"
  },
  "language_info": {
   "codemirror_mode": {
    "name": "ipython",
    "version": 3
   },
   "file_extension": ".py",
   "mimetype": "text/x-python",
   "name": "python",
   "nbconvert_exporter": "python",
   "pygments_lexer": "ipython3",
   "version": "3.9.12"
  }
 },
 "nbformat": 4,
 "nbformat_minor": 2
}
