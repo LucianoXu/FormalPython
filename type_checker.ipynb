{
 "cells": [
  {
   "cell_type": "markdown",
   "metadata": {},
   "source": [
    "# Rem System"
   ]
  },
  {
   "cell_type": "markdown",
   "metadata": {},
   "source": [
    "## Type Checker"
   ]
  },
  {
   "cell_type": "markdown",
   "metadata": {},
   "source": [
    "Example:\n",
    "```\n",
    "⊢ forall P : Prop, P -> P.\n",
    "```"
   ]
  },
  {
   "cell_type": "code",
   "execution_count": 1,
   "metadata": {},
   "outputs": [],
   "source": [
    "from Rem import *"
   ]
  },
  {
   "cell_type": "code",
   "execution_count": 2,
   "metadata": {},
   "outputs": [
    {
     "name": "stdout",
     "output_type": "stream",
     "text": [
      "                  \n",
      "(    W-Empty    ) ----------------------------------------\n",
      "                  WF([])[]\n"
     ]
    }
   ],
   "source": [
    "p1 = MP_W_Empty()\n",
    "print(p1)"
   ]
  },
  {
   "cell_type": "code",
   "execution_count": 3,
   "metadata": {},
   "outputs": [
    {
     "name": "stdout",
     "output_type": "stream",
     "text": [
      "                  WF([])[]\n",
      "(    Ax-Prop    ) ----------------------------------------\n",
      "                  [][] ⊢ Prop : Type(1)\n"
     ]
    }
   ],
   "source": [
    "p2 = MP_Ax_Prop(p1)\n",
    "print(p2)"
   ]
  },
  {
   "cell_type": "code",
   "execution_count": 4,
   "metadata": {},
   "outputs": [
    {
     "name": "stdout",
     "output_type": "stream",
     "text": [
      "                  \n",
      "(    is-sort    ) ----------------------------------------\n",
      "                  Type(1) ∈ S\n"
     ]
    }
   ],
   "source": [
    "p3 = MP_IsSort(Type_i(1))\n",
    "print(p3)"
   ]
  },
  {
   "cell_type": "code",
   "execution_count": 5,
   "metadata": {},
   "outputs": [
    {
     "name": "stdout",
     "output_type": "stream",
     "text": [
      "                      \n",
      "(    no-in-local    ) ----------------------------------------\n",
      "                      P ∉ []\n"
     ]
    }
   ],
   "source": [
    "p4 = MP_Cont_Not_Contain_Var(Var(\"P\"), Context())\n",
    "print(p4)"
   ]
  },
  {
   "cell_type": "code",
   "execution_count": 6,
   "metadata": {},
   "outputs": [
    {
     "name": "stdout",
     "output_type": "stream",
     "text": [
      "                        [][] ⊢ Prop : Type(1)\n",
      "                        Type(1) ∈ S\n",
      "                        P ∉ []\n",
      "(    W-Local-Assum    ) ----------------------------------------\n",
      "                        WF([])[(P : Prop)]\n"
     ]
    }
   ],
   "source": [
    "p5 = MP_W_Local_Assum(p2, p3, p4)\n",
    "print(p5)"
   ]
  },
  {
   "cell_type": "code",
   "execution_count": 7,
   "metadata": {},
   "outputs": [
    {
     "name": "stdout",
     "output_type": "stream",
     "text": [
      "                         \n",
      "(    assum-in-local    ) ----------------------------------------\n",
      "                         (P : Prop) ∈ [(P : Prop)]\n"
     ]
    }
   ],
   "source": [
    "p6 = MP_Cont_Contain_Typing(LocalTyping(Var(\"P\"), Prop()), p5.Gamma)\n",
    "print(p6)"
   ]
  },
  {
   "cell_type": "code",
   "execution_count": 8,
   "metadata": {},
   "outputs": [
    {
     "name": "stdout",
     "output_type": "stream",
     "text": [
      "              WF([])[(P : Prop)]\n",
      "              (P : Prop) ∈ [(P : Prop)]\n",
      "(    Var    ) ----------------------------------------\n",
      "              [][(P : Prop)] ⊢ P : Prop\n"
     ]
    }
   ],
   "source": [
    "p7 = MP_Var(p5, p6)\n",
    "print(p7)"
   ]
  },
  {
   "cell_type": "code",
   "execution_count": 9,
   "metadata": {},
   "outputs": [
    {
     "name": "stdout",
     "output_type": "stream",
     "text": [
      "                  \n",
      "(    is-sort    ) ----------------------------------------\n",
      "                  Prop ∈ S\n"
     ]
    }
   ],
   "source": [
    "p8 = MP_IsSort(Prop())\n",
    "print(p8)"
   ]
  },
  {
   "cell_type": "code",
   "execution_count": 10,
   "metadata": {},
   "outputs": [
    {
     "name": "stdout",
     "output_type": "stream",
     "text": [
      "                      \n",
      "(    no-in-local    ) ----------------------------------------\n",
      "                      p ∉ [(P : Prop)]\n"
     ]
    }
   ],
   "source": [
    "p9 = MP_Cont_Not_Contain_Var(Var(\"p\"), p6.Gamma)\n",
    "print(p9)"
   ]
  },
  {
   "cell_type": "code",
   "execution_count": 11,
   "metadata": {},
   "outputs": [
    {
     "name": "stdout",
     "output_type": "stream",
     "text": [
      "                        [][(P : Prop)] ⊢ P : Prop\n",
      "                        Prop ∈ S\n",
      "                        p ∉ [(P : Prop)]\n",
      "(    W-Local-Assum    ) ----------------------------------------\n",
      "                        WF([])[(P : Prop); (p : P)]\n"
     ]
    }
   ],
   "source": [
    "p10 = MP_W_Local_Assum(p7, p8, p9)\n",
    "print(p10)"
   ]
  },
  {
   "cell_type": "code",
   "execution_count": 12,
   "metadata": {},
   "outputs": [
    {
     "name": "stdout",
     "output_type": "stream",
     "text": [
      "                         \n",
      "(    assum-in-local    ) ----------------------------------------\n",
      "                         (P : Prop) ∈ [(P : Prop); (p : P)]\n"
     ]
    }
   ],
   "source": [
    "p11 = MP_Cont_Contain_Typing(LocalTyping(Var(\"P\"), Prop()), p10.Gamma)\n",
    "print(p11)"
   ]
  },
  {
   "cell_type": "code",
   "execution_count": 13,
   "metadata": {},
   "outputs": [
    {
     "name": "stdout",
     "output_type": "stream",
     "text": [
      "              WF([])[(P : Prop); (p : P)]\n",
      "              (P : Prop) ∈ [(P : Prop); (p : P)]\n",
      "(    Var    ) ----------------------------------------\n",
      "              [][(P : Prop); (p : P)] ⊢ P : Prop\n"
     ]
    }
   ],
   "source": [
    "p12 = MP_Var(p10, p11)\n",
    "print(p12)"
   ]
  },
  {
   "cell_type": "code",
   "execution_count": 14,
   "metadata": {},
   "outputs": [
    {
     "name": "stdout",
     "output_type": "stream",
     "text": [
      "                    [][(P : Prop)] ⊢ P : Prop\n",
      "                    Prop ∈ S\n",
      "                    [][(P : Prop); (p : P)] ⊢ P : Prop\n",
      "(    Prod-Prop    ) ----------------------------------------\n",
      "                    [][(P : Prop)] ⊢ (P -> P) : Prop\n"
     ]
    }
   ],
   "source": [
    "p13 = MP_Prod_Prop(p7, p8, p12)\n",
    "print(p13)"
   ]
  },
  {
   "cell_type": "code",
   "execution_count": 15,
   "metadata": {},
   "outputs": [
    {
     "name": "stdout",
     "output_type": "stream",
     "text": [
      "                         \n",
      "(    assum-in-local    ) ----------------------------------------\n",
      "                         (p : P) ∈ [(P : Prop); (p : P)]\n"
     ]
    }
   ],
   "source": [
    "p14 = MP_Cont_Contain_Typing(LocalTyping(Var(\"p\"), Var(\"P\")), p10.Gamma)\n",
    "print(p14)"
   ]
  },
  {
   "cell_type": "code",
   "execution_count": 16,
   "metadata": {},
   "outputs": [
    {
     "name": "stdout",
     "output_type": "stream",
     "text": [
      "              WF([])[(P : Prop); (p : P)]\n",
      "              (p : P) ∈ [(P : Prop); (p : P)]\n",
      "(    Var    ) ----------------------------------------\n",
      "              [][(P : Prop); (p : P)] ⊢ p : P\n"
     ]
    }
   ],
   "source": [
    "p15 = MP_Var(p10, p14)\n",
    "print(p15)"
   ]
  },
  {
   "cell_type": "code",
   "execution_count": 17,
   "metadata": {},
   "outputs": [
    {
     "name": "stdout",
     "output_type": "stream",
     "text": [
      "              [][(P : Prop)] ⊢ (P -> P) : Prop\n",
      "              [][(P : Prop); (p : P)] ⊢ p : P\n",
      "(    Lam    ) ----------------------------------------\n",
      "              [][(P : Prop)] ⊢ fun(p:P)=>p : (P -> P)\n"
     ]
    }
   ],
   "source": [
    "p16 = MP_Lam(p13, p15)\n",
    "print(p16)"
   ]
  },
  {
   "cell_type": "code",
   "execution_count": 18,
   "metadata": {},
   "outputs": [
    {
     "name": "stdout",
     "output_type": "stream",
     "text": [
      "                    [][(P : Prop)] ⊢ P : Prop\n",
      "                    Prop ∈ S\n",
      "                    [][(P : Prop); (p : P)] ⊢ P : Prop\n",
      "(    Prod-Prop    ) ----------------------------------------\n",
      "                    [][(P : Prop)] ⊢ (P -> P) : Prop\n"
     ]
    }
   ],
   "source": [
    "p17 = MP_Prod_Prop(p7, p8, p12)\n",
    "print(p17)"
   ]
  },
  {
   "cell_type": "code",
   "execution_count": 19,
   "metadata": {},
   "outputs": [
    {
     "name": "stdout",
     "output_type": "stream",
     "text": [
      "                    [][] ⊢ Prop : Type(1)\n",
      "                    Type(1) ∈ S\n",
      "                    [][(P : Prop)] ⊢ (P -> P) : Prop\n",
      "(    Prod-Prop    ) ----------------------------------------\n",
      "                    [][] ⊢ forall P:Prop, (P -> P) : Prop\n"
     ]
    }
   ],
   "source": [
    "p18 = MP_Prod_Prop(p2, p3, p17)\n",
    "print(p18)"
   ]
  },
  {
   "cell_type": "code",
   "execution_count": 20,
   "metadata": {},
   "outputs": [
    {
     "name": "stdout",
     "output_type": "stream",
     "text": [
      "                       \n",
      "(    no-in-global    ) ----------------------------------------\n",
      "                       id ∉ []\n"
     ]
    }
   ],
   "source": [
    "p19 = MP_Env_Not_Contain_Const(Const(\"id\"), Environment())\n",
    "print(p19)"
   ]
  },
  {
   "cell_type": "code",
   "execution_count": 21,
   "metadata": {},
   "outputs": [
    {
     "name": "stdout",
     "output_type": "stream",
     "text": [
      "                       [][] ⊢ forall P:Prop, (P -> P) : Prop\n",
      "                       id ∉ []\n",
      "(    W-Global-Def    ) ----------------------------------------\n",
      "                       WF([(id := forall P:Prop, (P -> P) : Prop)])[]\n"
     ]
    }
   ],
   "source": [
    "p20 = MP_W_Global_Def(p18, p19)\n",
    "print(p20)"
   ]
  },
  {
   "cell_type": "code",
   "execution_count": null,
   "metadata": {},
   "outputs": [],
   "source": []
  }
 ],
 "metadata": {
  "kernelspec": {
   "display_name": "base",
   "language": "python",
   "name": "python3"
  },
  "language_info": {
   "codemirror_mode": {
    "name": "ipython",
    "version": 3
   },
   "file_extension": ".py",
   "mimetype": "text/x-python",
   "name": "python",
   "nbconvert_exporter": "python",
   "pygments_lexer": "ipython3",
   "version": "3.9.12"
  }
 },
 "nbformat": 4,
 "nbformat_minor": 2
}
